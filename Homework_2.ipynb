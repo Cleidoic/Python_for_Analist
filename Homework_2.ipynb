{
  "metadata": {
    "language_info": {
      "codemirror_mode": {
        "name": "python",
        "version": 3
      },
      "file_extension": ".py",
      "mimetype": "text/x-python",
      "name": "python",
      "nbconvert_exporter": "python",
      "pygments_lexer": "ipython3",
      "version": "3.8"
    },
    "kernelspec": {
      "name": "python",
      "display_name": "Python (Pyodide)",
      "language": "python"
    }
  },
  "nbformat_minor": 4,
  "nbformat": 4,
  "cells": [
    {
      "cell_type": "markdown",
      "source": "---",
      "metadata": {}
    },
    {
      "cell_type": "markdown",
      "source": "## Задача 1:\nСкачать файл в уроке \"kc-house-data.csv\". <br>\nСчитать данные с помощью pandas. <br>\nВывести на экран первые 5 строк. <br>\nПосмотреть на описание признаков и на их содержание",
      "metadata": {}
    },
    {
      "cell_type": "code",
      "source": "import pandas as pd\n\n# Считываем данные с помощью pandas\ndf = pd.read_csv('kc-house-data.csv')\n\n# Выводим на экран первые 5 строк\nprint(df.head())\n\n# Посмотрим на описание признаков и на их содержание\nprint(df.info())",
      "metadata": {
        "trusted": true
      },
      "execution_count": 69,
      "outputs": [
        {
          "name": "stdout",
          "text": "           id             date     price  bedrooms  bathrooms  sqft_living  \\\n0  7129300520  20141013T000000  221900.0         3       1.00         1180   \n1  6414100192  20141209T000000  538000.0         3       2.25         2570   \n2  5631500400  20150225T000000  180000.0         2       1.00          770   \n3  2487200875  20141209T000000  604000.0         4       3.00         1960   \n4  1954400510  20150218T000000  510000.0         3       2.00         1680   \n\n   sqft_lot  floors  waterfront  view  ...  grade  sqft_above  sqft_basement  \\\n0      5650     1.0           0     0  ...      7        1180              0   \n1      7242     2.0           0     0  ...      7        2170            400   \n2     10000     1.0           0     0  ...      6         770              0   \n3      5000     1.0           0     0  ...      7        1050            910   \n4      8080     1.0           0     0  ...      8        1680              0   \n\n   yr_built  yr_renovated  zipcode      lat     long  sqft_living15  \\\n0      1955             0    98178  47.5112 -122.257           1340   \n1      1951          1991    98125  47.7210 -122.319           1690   \n2      1933             0    98028  47.7379 -122.233           2720   \n3      1965             0    98136  47.5208 -122.393           1360   \n4      1987             0    98074  47.6168 -122.045           1800   \n\n   sqft_lot15  \n0        5650  \n1        7639  \n2        8062  \n3        5000  \n4        7503  \n\n[5 rows x 21 columns]\n<class 'pandas.core.frame.DataFrame'>\nRangeIndex: 21613 entries, 0 to 21612\nData columns (total 21 columns):\n #   Column         Non-Null Count  Dtype  \n---  ------         --------------  -----  \n 0   id             21613 non-null  int64  \n 1   date           21613 non-null  object \n 2   price          21613 non-null  float64\n 3   bedrooms       21613 non-null  int64  \n 4   bathrooms      21613 non-null  float64\n 5   sqft_living    21613 non-null  int64  \n 6   sqft_lot       21613 non-null  int64  \n 7   floors         21613 non-null  float64\n 8   waterfront     21613 non-null  int64  \n 9   view           21613 non-null  int64  \n 10  condition      21613 non-null  int64  \n 11  grade          21613 non-null  int64  \n 12  sqft_above     21613 non-null  int64  \n 13  sqft_basement  21613 non-null  int64  \n 14  yr_built       21613 non-null  int64  \n 15  yr_renovated   21613 non-null  int64  \n 16  zipcode        21613 non-null  int64  \n 17  lat            21613 non-null  float64\n 18  long           21613 non-null  float64\n 19  sqft_living15  21613 non-null  int64  \n 20  sqft_lot15     21613 non-null  int64  \ndtypes: float64(5), int64(15), object(1)\nmemory usage: 3.4+ MB\nNone\n",
          "output_type": "stream"
        }
      ]
    },
    {
      "cell_type": "markdown",
      "source": "---",
      "metadata": {}
    },
    {
      "cell_type": "markdown",
      "source": "## Задача 2:\nПроведите первичный анализ данных. <br>\nИзучите типы данных. <br>\nНайдите количество пропущенных ячеек в данных. <br>\nПосчитайте основные статистики по всем признакам и поизучайте их. <br>\nНаписать выводы",
      "metadata": {}
    },
    {
      "cell_type": "code",
      "source": "# Изучаем типы данных\nprint(df.dtypes)\n\n# Находим количество пропущенных ячеек в данных\nprint(df.isnull().sum())\n\n# Считаем основные статистики по всем признакам и поизучаем их\ndf.describe()\n\n# Пишем выводы",
      "metadata": {
        "trusted": true
      },
      "execution_count": 71,
      "outputs": [
        {
          "name": "stdout",
          "text": "id                 int64\ndate              object\nprice            float64\nbedrooms           int64\nbathrooms        float64\nsqft_living        int64\nsqft_lot           int64\nfloors           float64\nwaterfront         int64\nview               int64\ncondition          int64\ngrade              int64\nsqft_above         int64\nsqft_basement      int64\nyr_built           int64\nyr_renovated       int64\nzipcode            int64\nlat              float64\nlong             float64\nsqft_living15      int64\nsqft_lot15         int64\ndtype: object\nid               0\ndate             0\nprice            0\nbedrooms         0\nbathrooms        0\nsqft_living      0\nsqft_lot         0\nfloors           0\nwaterfront       0\nview             0\ncondition        0\ngrade            0\nsqft_above       0\nsqft_basement    0\nyr_built         0\nyr_renovated     0\nzipcode          0\nlat              0\nlong             0\nsqft_living15    0\nsqft_lot15       0\ndtype: int64\n",
          "output_type": "stream"
        },
        {
          "execution_count": 71,
          "output_type": "execute_result",
          "data": {
            "text/plain": "                 id         price      bedrooms     bathrooms   sqft_living  \\\ncount  2.161300e+04  2.161300e+04  21613.000000  21613.000000  21613.000000   \nmean   4.580302e+09  5.400881e+05      3.370842      2.114757   2079.899736   \nstd    2.876566e+09  3.671272e+05      0.930062      0.770163    918.440897   \nmin    1.000102e+06  7.500000e+04      0.000000      0.000000    290.000000   \n25%    2.123049e+09  3.219500e+05      3.000000      1.750000   1427.000000   \n50%    3.904930e+09  4.500000e+05      3.000000      2.250000   1910.000000   \n75%    7.308900e+09  6.450000e+05      4.000000      2.500000   2550.000000   \nmax    9.900000e+09  7.700000e+06     33.000000      8.000000  13540.000000   \n\n           sqft_lot        floors    waterfront          view     condition  \\\ncount  2.161300e+04  21613.000000  21613.000000  21613.000000  21613.000000   \nmean   1.510697e+04      1.494309      0.007542      0.234303      3.409430   \nstd    4.142051e+04      0.539989      0.086517      0.766318      0.650743   \nmin    5.200000e+02      1.000000      0.000000      0.000000      1.000000   \n25%    5.040000e+03      1.000000      0.000000      0.000000      3.000000   \n50%    7.618000e+03      1.500000      0.000000      0.000000      3.000000   \n75%    1.068800e+04      2.000000      0.000000      0.000000      4.000000   \nmax    1.651359e+06      3.500000      1.000000      4.000000      5.000000   \n\n              grade    sqft_above  sqft_basement      yr_built  yr_renovated  \\\ncount  21613.000000  21613.000000   21613.000000  21613.000000  21613.000000   \nmean       7.656873   1788.390691     291.509045   1971.005136     84.402258   \nstd        1.175459    828.090978     442.575043     29.373411    401.679240   \nmin        1.000000    290.000000       0.000000   1900.000000      0.000000   \n25%        7.000000   1190.000000       0.000000   1951.000000      0.000000   \n50%        7.000000   1560.000000       0.000000   1975.000000      0.000000   \n75%        8.000000   2210.000000     560.000000   1997.000000      0.000000   \nmax       13.000000   9410.000000    4820.000000   2015.000000   2015.000000   \n\n            zipcode           lat          long  sqft_living15     sqft_lot15  \ncount  21613.000000  21613.000000  21613.000000   21613.000000   21613.000000  \nmean   98077.939805     47.560053   -122.213896    1986.552492   12768.455652  \nstd       53.505026      0.138564      0.140828     685.391304   27304.179631  \nmin    98001.000000     47.155900   -122.519000     399.000000     651.000000  \n25%    98033.000000     47.471000   -122.328000    1490.000000    5100.000000  \n50%    98065.000000     47.571800   -122.230000    1840.000000    7620.000000  \n75%    98118.000000     47.678000   -122.125000    2360.000000   10083.000000  \nmax    98199.000000     47.777600   -121.315000    6210.000000  871200.000000  ",
            "text/html": "<div>\n<style scoped>\n    .dataframe tbody tr th:only-of-type {\n        vertical-align: middle;\n    }\n\n    .dataframe tbody tr th {\n        vertical-align: top;\n    }\n\n    .dataframe thead th {\n        text-align: right;\n    }\n</style>\n<table border=\"1\" class=\"dataframe\">\n  <thead>\n    <tr style=\"text-align: right;\">\n      <th></th>\n      <th>id</th>\n      <th>price</th>\n      <th>bedrooms</th>\n      <th>bathrooms</th>\n      <th>sqft_living</th>\n      <th>sqft_lot</th>\n      <th>floors</th>\n      <th>waterfront</th>\n      <th>view</th>\n      <th>condition</th>\n      <th>grade</th>\n      <th>sqft_above</th>\n      <th>sqft_basement</th>\n      <th>yr_built</th>\n      <th>yr_renovated</th>\n      <th>zipcode</th>\n      <th>lat</th>\n      <th>long</th>\n      <th>sqft_living15</th>\n      <th>sqft_lot15</th>\n    </tr>\n  </thead>\n  <tbody>\n    <tr>\n      <th>count</th>\n      <td>2.161300e+04</td>\n      <td>2.161300e+04</td>\n      <td>21613.000000</td>\n      <td>21613.000000</td>\n      <td>21613.000000</td>\n      <td>2.161300e+04</td>\n      <td>21613.000000</td>\n      <td>21613.000000</td>\n      <td>21613.000000</td>\n      <td>21613.000000</td>\n      <td>21613.000000</td>\n      <td>21613.000000</td>\n      <td>21613.000000</td>\n      <td>21613.000000</td>\n      <td>21613.000000</td>\n      <td>21613.000000</td>\n      <td>21613.000000</td>\n      <td>21613.000000</td>\n      <td>21613.000000</td>\n      <td>21613.000000</td>\n    </tr>\n    <tr>\n      <th>mean</th>\n      <td>4.580302e+09</td>\n      <td>5.400881e+05</td>\n      <td>3.370842</td>\n      <td>2.114757</td>\n      <td>2079.899736</td>\n      <td>1.510697e+04</td>\n      <td>1.494309</td>\n      <td>0.007542</td>\n      <td>0.234303</td>\n      <td>3.409430</td>\n      <td>7.656873</td>\n      <td>1788.390691</td>\n      <td>291.509045</td>\n      <td>1971.005136</td>\n      <td>84.402258</td>\n      <td>98077.939805</td>\n      <td>47.560053</td>\n      <td>-122.213896</td>\n      <td>1986.552492</td>\n      <td>12768.455652</td>\n    </tr>\n    <tr>\n      <th>std</th>\n      <td>2.876566e+09</td>\n      <td>3.671272e+05</td>\n      <td>0.930062</td>\n      <td>0.770163</td>\n      <td>918.440897</td>\n      <td>4.142051e+04</td>\n      <td>0.539989</td>\n      <td>0.086517</td>\n      <td>0.766318</td>\n      <td>0.650743</td>\n      <td>1.175459</td>\n      <td>828.090978</td>\n      <td>442.575043</td>\n      <td>29.373411</td>\n      <td>401.679240</td>\n      <td>53.505026</td>\n      <td>0.138564</td>\n      <td>0.140828</td>\n      <td>685.391304</td>\n      <td>27304.179631</td>\n    </tr>\n    <tr>\n      <th>min</th>\n      <td>1.000102e+06</td>\n      <td>7.500000e+04</td>\n      <td>0.000000</td>\n      <td>0.000000</td>\n      <td>290.000000</td>\n      <td>5.200000e+02</td>\n      <td>1.000000</td>\n      <td>0.000000</td>\n      <td>0.000000</td>\n      <td>1.000000</td>\n      <td>1.000000</td>\n      <td>290.000000</td>\n      <td>0.000000</td>\n      <td>1900.000000</td>\n      <td>0.000000</td>\n      <td>98001.000000</td>\n      <td>47.155900</td>\n      <td>-122.519000</td>\n      <td>399.000000</td>\n      <td>651.000000</td>\n    </tr>\n    <tr>\n      <th>25%</th>\n      <td>2.123049e+09</td>\n      <td>3.219500e+05</td>\n      <td>3.000000</td>\n      <td>1.750000</td>\n      <td>1427.000000</td>\n      <td>5.040000e+03</td>\n      <td>1.000000</td>\n      <td>0.000000</td>\n      <td>0.000000</td>\n      <td>3.000000</td>\n      <td>7.000000</td>\n      <td>1190.000000</td>\n      <td>0.000000</td>\n      <td>1951.000000</td>\n      <td>0.000000</td>\n      <td>98033.000000</td>\n      <td>47.471000</td>\n      <td>-122.328000</td>\n      <td>1490.000000</td>\n      <td>5100.000000</td>\n    </tr>\n    <tr>\n      <th>50%</th>\n      <td>3.904930e+09</td>\n      <td>4.500000e+05</td>\n      <td>3.000000</td>\n      <td>2.250000</td>\n      <td>1910.000000</td>\n      <td>7.618000e+03</td>\n      <td>1.500000</td>\n      <td>0.000000</td>\n      <td>0.000000</td>\n      <td>3.000000</td>\n      <td>7.000000</td>\n      <td>1560.000000</td>\n      <td>0.000000</td>\n      <td>1975.000000</td>\n      <td>0.000000</td>\n      <td>98065.000000</td>\n      <td>47.571800</td>\n      <td>-122.230000</td>\n      <td>1840.000000</td>\n      <td>7620.000000</td>\n    </tr>\n    <tr>\n      <th>75%</th>\n      <td>7.308900e+09</td>\n      <td>6.450000e+05</td>\n      <td>4.000000</td>\n      <td>2.500000</td>\n      <td>2550.000000</td>\n      <td>1.068800e+04</td>\n      <td>2.000000</td>\n      <td>0.000000</td>\n      <td>0.000000</td>\n      <td>4.000000</td>\n      <td>8.000000</td>\n      <td>2210.000000</td>\n      <td>560.000000</td>\n      <td>1997.000000</td>\n      <td>0.000000</td>\n      <td>98118.000000</td>\n      <td>47.678000</td>\n      <td>-122.125000</td>\n      <td>2360.000000</td>\n      <td>10083.000000</td>\n    </tr>\n    <tr>\n      <th>max</th>\n      <td>9.900000e+09</td>\n      <td>7.700000e+06</td>\n      <td>33.000000</td>\n      <td>8.000000</td>\n      <td>13540.000000</td>\n      <td>1.651359e+06</td>\n      <td>3.500000</td>\n      <td>1.000000</td>\n      <td>4.000000</td>\n      <td>5.000000</td>\n      <td>13.000000</td>\n      <td>9410.000000</td>\n      <td>4820.000000</td>\n      <td>2015.000000</td>\n      <td>2015.000000</td>\n      <td>98199.000000</td>\n      <td>47.777600</td>\n      <td>-121.315000</td>\n      <td>6210.000000</td>\n      <td>871200.000000</td>\n    </tr>\n  </tbody>\n</table>\n</div>"
          },
          "metadata": {}
        }
      ]
    },
    {
      "cell_type": "markdown",
      "source": "---",
      "metadata": {}
    },
    {
      "cell_type": "markdown",
      "source": "## Задача 3:\n### 3.1 В каком диапазоне изменяются стоимости недвижимости?",
      "metadata": {}
    },
    {
      "cell_type": "code",
      "source": "print(df['price'].min())\nprint(df['price'].max())",
      "metadata": {
        "trusted": true
      },
      "execution_count": 73,
      "outputs": [
        {
          "name": "stdout",
          "text": "75000.0\n7700000.0\n",
          "output_type": "stream"
        }
      ]
    },
    {
      "cell_type": "markdown",
      "source": "### 3.2 Какую долю в среднем занимает жилая площадь от всей площади по всем домам?",
      "metadata": {}
    },
    {
      "cell_type": "code",
      "source": "# Вычисление средней доли жилой площади от общей площади\nmean_ratio = df['sqft_living'].mean() / df['sqft_lot'].mean()\n\n# Вывод результата\nprint(mean_ratio.round(2))",
      "metadata": {
        "trusted": true
      },
      "execution_count": 77,
      "outputs": [
        {
          "name": "stdout",
          "text": "0.14\n",
          "output_type": "stream"
        }
      ]
    },
    {
      "cell_type": "markdown",
      "source": "### 3.3 Как много домов с разными этажами в данных?",
      "metadata": {}
    },
    {
      "cell_type": "code",
      "source": "multistorey = len(df[df['floors'] > 1])\nprint(multistorey)",
      "metadata": {
        "trusted": true
      },
      "execution_count": 79,
      "outputs": [
        {
          "name": "stdout",
          "text": "10933\n",
          "output_type": "stream"
        }
      ]
    },
    {
      "cell_type": "markdown",
      "source": "### 3.4 Насколько хорошие состояния у домов в данных?",
      "metadata": {}
    },
    {
      "cell_type": "code",
      "source": "# Подсчет количества строк с разными значениями в поле \"floors\"\ncount_by_condition = df['condition'].value_counts()\n\n# Вывод результата\nprint(count_by_condition)",
      "metadata": {
        "trusted": true
      },
      "execution_count": 81,
      "outputs": [
        {
          "name": "stdout",
          "text": "3    14031\n4     5679\n5     1701\n2      172\n1       30\nName: condition, dtype: int64\n",
          "output_type": "stream"
        }
      ]
    },
    {
      "cell_type": "markdown",
      "source": "### 3.5 Найдите года, когда построили первый дом, когда построили последний дом в данных?",
      "metadata": {}
    },
    {
      "cell_type": "code",
      "source": "# Сортировка данных по полю \"год постройки\"\nsorted_df = df.sort_values('yr_built')\n\n# Получение первой и последней строки\nfirst = df.head(1)\nlast = df.tail(1)\n\n# Вывод результатов\nprint(\"Первый дом по году постройки:\")\nprint(first['yr_built'])\n\nprint(\"Последний дом по году постройки:\")\nprint(last['yr_built'])",
      "metadata": {
        "trusted": true
      },
      "execution_count": 7,
      "outputs": [
        {
          "name": "stdout",
          "text": "Первый дом по году постройки:\n0    1955\nName: yr_built, dtype: int64\nПоследний дом по году постройки:\n21612    2008\nName: yr_built, dtype: int64\n",
          "output_type": "stream"
        }
      ]
    },
    {
      "cell_type": "markdown",
      "source": "---",
      "metadata": {}
    },
    {
      "cell_type": "markdown",
      "source": "## Здача 4:\n### 4.1 Сколько в среднем стоят дома, у которых 2 спальни?",
      "metadata": {}
    },
    {
      "cell_type": "code",
      "source": "df[df['bedrooms'] == 2]['price'].mean().round(2)",
      "metadata": {
        "trusted": true
      },
      "execution_count": 86,
      "outputs": [
        {
          "execution_count": 86,
          "output_type": "execute_result",
          "data": {
            "text/plain": "401372.68"
          },
          "metadata": {}
        }
      ]
    },
    {
      "cell_type": "markdown",
      "source": "### 4.2 Какая в среднем общая площадь домов, у которых стоимость больше 600 000?",
      "metadata": {}
    },
    {
      "cell_type": "code",
      "source": "df[df['price'] > 600000]['sqft_lot'].mean().round(2)",
      "metadata": {
        "trusted": true
      },
      "execution_count": 87,
      "outputs": [
        {
          "execution_count": 87,
          "output_type": "execute_result",
          "data": {
            "text/plain": "20442.52"
          },
          "metadata": {}
        }
      ]
    },
    {
      "cell_type": "markdown",
      "source": "### 4.3 Как много домов коснулся ремонт?",
      "metadata": {}
    },
    {
      "cell_type": "code",
      "source": "len(df[df['yr_renovated'] > 0])",
      "metadata": {
        "trusted": true
      },
      "execution_count": 88,
      "outputs": [
        {
          "execution_count": 88,
          "output_type": "execute_result",
          "data": {
            "text/plain": "914"
          },
          "metadata": {}
        }
      ]
    },
    {
      "cell_type": "markdown",
      "source": "### 4.4 Насколько в среднем стоимость домов с оценкой grade домов выше 10 отличается от стоимости домов с оценкой grade меньше 4?",
      "metadata": {}
    },
    {
      "cell_type": "code",
      "source": "(df[df['grade'] > 10]['price'].mean() - df[df['grade'] < 4]['price'].mean()).round(2)",
      "metadata": {
        "trusted": true
      },
      "execution_count": 90,
      "outputs": [
        {
          "execution_count": 90,
          "output_type": "execute_result",
          "data": {
            "text/plain": "1488885.12"
          },
          "metadata": {}
        }
      ]
    },
    {
      "cell_type": "markdown",
      "source": "---",
      "metadata": {}
    },
    {
      "cell_type": "markdown",
      "source": "## Задача 5:\n\n### 5.1 Выберите дом клиенту\nКлиент хочет дом с видом на набережную, как минимум с тремя ванными и с подвалом.  <br>\nСколько вариантов есть у клиента?\n",
      "metadata": {}
    },
    {
      "cell_type": "code",
      "source": "df[(df['view'] > 3) & (df['bathrooms'] > 2) & (df['sqft_basement'] > 0)]",
      "metadata": {
        "trusted": true
      },
      "execution_count": 93,
      "outputs": [
        {
          "execution_count": 93,
          "output_type": "execute_result",
          "data": {
            "text/plain": "               id             date      price  bedrooms  bathrooms  \\\n21     2524049179  20140826T000000  2000000.0         3       2.75   \n246    2025069065  20140929T000000  2400000.0         4       2.50   \n300    3225069065  20140624T000000  3075000.0         4       5.00   \n312    1860600135  20140502T000000  2384000.0         5       2.50   \n582    2998800125  20140701T000000   730000.0         2       2.25   \n...           ...              ...        ...       ...        ...   \n20767  8043700105  20150417T000000  2300000.0         4       4.00   \n20923  7852070210  20140527T000000  1149000.0         4       3.00   \n21050  2424059170  20150219T000000   900000.0         5       6.00   \n21201   518500460  20141008T000000  2230000.0         3       3.50   \n21576  9253900271  20150107T000000  3567000.0         5       4.50   \n\n       sqft_living  sqft_lot  floors  waterfront  view  ...  grade  \\\n21            3050     44867     1.0           0     4  ...      9   \n246           3650      8354     1.0           1     4  ...      9   \n300           4550     18641     1.0           1     4  ...     10   \n312           3650      9050     2.0           0     4  ...     10   \n582           2130      4920     1.5           0     4  ...      7   \n...            ...       ...     ...         ...   ...  ...    ...   \n20767         4360      8175     2.5           1     4  ...     10   \n20923         5940     11533     2.0           0     4  ...     11   \n21050         7120     40806     2.0           0     4  ...     12   \n21201         3760      5634     2.0           1     4  ...     11   \n21576         4850     10584     2.0           1     4  ...     10   \n\n       sqft_above  sqft_basement  yr_built  yr_renovated  zipcode      lat  \\\n21           2330            720      1968             0    98040  47.5316   \n246          1830           1820      2000             0    98074  47.6338   \n300          2600           1950      2002             0    98074  47.6053   \n312          3370            280      1921             0    98119  47.6345   \n582          1530            600      1941             0    98116  47.5730   \n...           ...            ...       ...           ...      ...      ...   \n20767        3940            420      2007             0    98008  47.5724   \n20923        4950            990      2004             0    98065  47.5443   \n21050        5480           1640      2007             0    98006  47.5451   \n21201        2830            930      2014             0    98056  47.5285   \n21576        3540           1310      2007             0    98008  47.5943   \n\n          long  sqft_living15  sqft_lot15  \n21    -122.233           4110       20336  \n246   -122.072           3120       18841  \n300   -122.077           4550       19508  \n312   -122.367           2880        5400  \n582   -122.409           2130        4920  \n...        ...            ...         ...  \n20767 -122.104           2670        8525  \n20923 -121.870           4240       12813  \n21050 -122.114           3440       36859  \n21201 -122.205           3560        5762  \n21576 -122.110           3470       18270  \n\n[184 rows x 21 columns]",
            "text/html": "<div>\n<style scoped>\n    .dataframe tbody tr th:only-of-type {\n        vertical-align: middle;\n    }\n\n    .dataframe tbody tr th {\n        vertical-align: top;\n    }\n\n    .dataframe thead th {\n        text-align: right;\n    }\n</style>\n<table border=\"1\" class=\"dataframe\">\n  <thead>\n    <tr style=\"text-align: right;\">\n      <th></th>\n      <th>id</th>\n      <th>date</th>\n      <th>price</th>\n      <th>bedrooms</th>\n      <th>bathrooms</th>\n      <th>sqft_living</th>\n      <th>sqft_lot</th>\n      <th>floors</th>\n      <th>waterfront</th>\n      <th>view</th>\n      <th>...</th>\n      <th>grade</th>\n      <th>sqft_above</th>\n      <th>sqft_basement</th>\n      <th>yr_built</th>\n      <th>yr_renovated</th>\n      <th>zipcode</th>\n      <th>lat</th>\n      <th>long</th>\n      <th>sqft_living15</th>\n      <th>sqft_lot15</th>\n    </tr>\n  </thead>\n  <tbody>\n    <tr>\n      <th>21</th>\n      <td>2524049179</td>\n      <td>20140826T000000</td>\n      <td>2000000.0</td>\n      <td>3</td>\n      <td>2.75</td>\n      <td>3050</td>\n      <td>44867</td>\n      <td>1.0</td>\n      <td>0</td>\n      <td>4</td>\n      <td>...</td>\n      <td>9</td>\n      <td>2330</td>\n      <td>720</td>\n      <td>1968</td>\n      <td>0</td>\n      <td>98040</td>\n      <td>47.5316</td>\n      <td>-122.233</td>\n      <td>4110</td>\n      <td>20336</td>\n    </tr>\n    <tr>\n      <th>246</th>\n      <td>2025069065</td>\n      <td>20140929T000000</td>\n      <td>2400000.0</td>\n      <td>4</td>\n      <td>2.50</td>\n      <td>3650</td>\n      <td>8354</td>\n      <td>1.0</td>\n      <td>1</td>\n      <td>4</td>\n      <td>...</td>\n      <td>9</td>\n      <td>1830</td>\n      <td>1820</td>\n      <td>2000</td>\n      <td>0</td>\n      <td>98074</td>\n      <td>47.6338</td>\n      <td>-122.072</td>\n      <td>3120</td>\n      <td>18841</td>\n    </tr>\n    <tr>\n      <th>300</th>\n      <td>3225069065</td>\n      <td>20140624T000000</td>\n      <td>3075000.0</td>\n      <td>4</td>\n      <td>5.00</td>\n      <td>4550</td>\n      <td>18641</td>\n      <td>1.0</td>\n      <td>1</td>\n      <td>4</td>\n      <td>...</td>\n      <td>10</td>\n      <td>2600</td>\n      <td>1950</td>\n      <td>2002</td>\n      <td>0</td>\n      <td>98074</td>\n      <td>47.6053</td>\n      <td>-122.077</td>\n      <td>4550</td>\n      <td>19508</td>\n    </tr>\n    <tr>\n      <th>312</th>\n      <td>1860600135</td>\n      <td>20140502T000000</td>\n      <td>2384000.0</td>\n      <td>5</td>\n      <td>2.50</td>\n      <td>3650</td>\n      <td>9050</td>\n      <td>2.0</td>\n      <td>0</td>\n      <td>4</td>\n      <td>...</td>\n      <td>10</td>\n      <td>3370</td>\n      <td>280</td>\n      <td>1921</td>\n      <td>0</td>\n      <td>98119</td>\n      <td>47.6345</td>\n      <td>-122.367</td>\n      <td>2880</td>\n      <td>5400</td>\n    </tr>\n    <tr>\n      <th>582</th>\n      <td>2998800125</td>\n      <td>20140701T000000</td>\n      <td>730000.0</td>\n      <td>2</td>\n      <td>2.25</td>\n      <td>2130</td>\n      <td>4920</td>\n      <td>1.5</td>\n      <td>0</td>\n      <td>4</td>\n      <td>...</td>\n      <td>7</td>\n      <td>1530</td>\n      <td>600</td>\n      <td>1941</td>\n      <td>0</td>\n      <td>98116</td>\n      <td>47.5730</td>\n      <td>-122.409</td>\n      <td>2130</td>\n      <td>4920</td>\n    </tr>\n    <tr>\n      <th>...</th>\n      <td>...</td>\n      <td>...</td>\n      <td>...</td>\n      <td>...</td>\n      <td>...</td>\n      <td>...</td>\n      <td>...</td>\n      <td>...</td>\n      <td>...</td>\n      <td>...</td>\n      <td>...</td>\n      <td>...</td>\n      <td>...</td>\n      <td>...</td>\n      <td>...</td>\n      <td>...</td>\n      <td>...</td>\n      <td>...</td>\n      <td>...</td>\n      <td>...</td>\n      <td>...</td>\n    </tr>\n    <tr>\n      <th>20767</th>\n      <td>8043700105</td>\n      <td>20150417T000000</td>\n      <td>2300000.0</td>\n      <td>4</td>\n      <td>4.00</td>\n      <td>4360</td>\n      <td>8175</td>\n      <td>2.5</td>\n      <td>1</td>\n      <td>4</td>\n      <td>...</td>\n      <td>10</td>\n      <td>3940</td>\n      <td>420</td>\n      <td>2007</td>\n      <td>0</td>\n      <td>98008</td>\n      <td>47.5724</td>\n      <td>-122.104</td>\n      <td>2670</td>\n      <td>8525</td>\n    </tr>\n    <tr>\n      <th>20923</th>\n      <td>7852070210</td>\n      <td>20140527T000000</td>\n      <td>1149000.0</td>\n      <td>4</td>\n      <td>3.00</td>\n      <td>5940</td>\n      <td>11533</td>\n      <td>2.0</td>\n      <td>0</td>\n      <td>4</td>\n      <td>...</td>\n      <td>11</td>\n      <td>4950</td>\n      <td>990</td>\n      <td>2004</td>\n      <td>0</td>\n      <td>98065</td>\n      <td>47.5443</td>\n      <td>-121.870</td>\n      <td>4240</td>\n      <td>12813</td>\n    </tr>\n    <tr>\n      <th>21050</th>\n      <td>2424059170</td>\n      <td>20150219T000000</td>\n      <td>900000.0</td>\n      <td>5</td>\n      <td>6.00</td>\n      <td>7120</td>\n      <td>40806</td>\n      <td>2.0</td>\n      <td>0</td>\n      <td>4</td>\n      <td>...</td>\n      <td>12</td>\n      <td>5480</td>\n      <td>1640</td>\n      <td>2007</td>\n      <td>0</td>\n      <td>98006</td>\n      <td>47.5451</td>\n      <td>-122.114</td>\n      <td>3440</td>\n      <td>36859</td>\n    </tr>\n    <tr>\n      <th>21201</th>\n      <td>518500460</td>\n      <td>20141008T000000</td>\n      <td>2230000.0</td>\n      <td>3</td>\n      <td>3.50</td>\n      <td>3760</td>\n      <td>5634</td>\n      <td>2.0</td>\n      <td>1</td>\n      <td>4</td>\n      <td>...</td>\n      <td>11</td>\n      <td>2830</td>\n      <td>930</td>\n      <td>2014</td>\n      <td>0</td>\n      <td>98056</td>\n      <td>47.5285</td>\n      <td>-122.205</td>\n      <td>3560</td>\n      <td>5762</td>\n    </tr>\n    <tr>\n      <th>21576</th>\n      <td>9253900271</td>\n      <td>20150107T000000</td>\n      <td>3567000.0</td>\n      <td>5</td>\n      <td>4.50</td>\n      <td>4850</td>\n      <td>10584</td>\n      <td>2.0</td>\n      <td>1</td>\n      <td>4</td>\n      <td>...</td>\n      <td>10</td>\n      <td>3540</td>\n      <td>1310</td>\n      <td>2007</td>\n      <td>0</td>\n      <td>98008</td>\n      <td>47.5943</td>\n      <td>-122.110</td>\n      <td>3470</td>\n      <td>18270</td>\n    </tr>\n  </tbody>\n</table>\n<p>184 rows × 21 columns</p>\n</div>"
          },
          "metadata": {}
        }
      ]
    },
    {
      "cell_type": "markdown",
      "source": "### 5.2 Выберите дом клиенту\nКлиент хочет дом либо с очень красивым видом из окна, либо с видом на набережную, <br>\nв очень хорошем состоянии и год постройки не меньше 1980 года.  <br>\nВ какой ценовом диапазоне будут дома?",
      "metadata": {}
    },
    {
      "cell_type": "code",
      "source": "request = df[(df['view'] == 3) | (df['view'] == 4) & (df['condition'] == 5) & (df['yr_built'] >= 1980)]\nprint(request['price'].min())\nprint(request['price'].max())",
      "metadata": {
        "trusted": true
      },
      "execution_count": 104,
      "outputs": [
        {
          "name": "stdout",
          "text": "154000.0\n7700000.0\n",
          "output_type": "stream"
        }
      ]
    },
    {
      "cell_type": "markdown",
      "source": "### 5.3 Выберите дом клиенту\nКлиент хочет дом без подвала, с двумя этажами, стоимостью до 150000.  <br>\nКакая оценка по состоянию у таких домов в среднем?",
      "metadata": {}
    },
    {
      "cell_type": "code",
      "source": "df[(df['sqft_basement'] == 0) & (df['floors'] == 2) & (df['price'] < 150000)]['grade'].mean()",
      "metadata": {
        "trusted": true
      },
      "execution_count": 109,
      "outputs": [
        {
          "execution_count": 109,
          "output_type": "execute_result",
          "data": {
            "text/plain": "7.0"
          },
          "metadata": {}
        }
      ]
    },
    {
      "cell_type": "markdown",
      "source": "---",
      "metadata": {}
    }
  ]
}