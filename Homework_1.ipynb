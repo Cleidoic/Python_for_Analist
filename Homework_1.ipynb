{
  "metadata": {
    "language_info": {
      "codemirror_mode": {
        "name": "python",
        "version": 3
      },
      "file_extension": ".py",
      "mimetype": "text/x-python",
      "name": "python",
      "nbconvert_exporter": "python",
      "pygments_lexer": "ipython3",
      "version": "3.8"
    },
    "kernelspec": {
      "name": "python",
      "display_name": "Python (Pyodide)",
      "language": "python"
    }
  },
  "nbformat_minor": 4,
  "nbformat": 4,
  "cells": [
    {
      "cell_type": "markdown",
      "source": "---",
      "metadata": {}
    },
    {
      "cell_type": "markdown",
      "source": "## Задание 1:\n\nНа складе лежат разные фрукты в разном количестве. <br>\nНужно написать функцию на Python, которая на вход принимает <br>\nлюбое количество названий фруктов и их количество, <br>\nа возвращает общее количество фруктов на складе",
      "metadata": {}
    },
    {
      "cell_type": "code",
      "source": "def count_fruits(**fruits):\n    return sum(fruits.values())\n\nprint(count_fruits(яблоки=10, бананы=17, апельсины=3))",
      "metadata": {
        "trusted": true
      },
      "execution_count": 2,
      "outputs": []
    },
    {
      "cell_type": "markdown",
      "source": "---",
      "metadata": {}
    },
    {
      "cell_type": "markdown",
      "source": "## Задание 2:\n\nДан список с затратами на рекламу\n",
      "metadata": {}
    },
    {
      "cell_type": "code",
      "source": "cost_adv = [100, 125, -90, 345, 655, -1, 0, 200]",
      "metadata": {
        "trusted": true
      },
      "execution_count": 10,
      "outputs": []
    },
    {
      "cell_type": "markdown",
      "source": "Но в данных есть ошибки, некоторые затраты имеют отрицательную величину. <br>\nУдалите такие значения из списка и посчитайте суммарные затраты. <br>\nИспользуйте list comprehensions <br>",
      "metadata": {}
    },
    {
      "cell_type": "code",
      "source": "def adv(lst):\n    lst = [i for i in lst if i >= 0]\n    return sum(lst)",
      "metadata": {
        "trusted": true
      },
      "execution_count": 13,
      "outputs": []
    },
    {
      "cell_type": "markdown",
      "source": "Вывод результата:",
      "metadata": {}
    },
    {
      "cell_type": "code",
      "source": "print(adv(cost_adv))",
      "metadata": {
        "trusted": true
      },
      "execution_count": 14,
      "outputs": [
        {
          "name": "stdout",
          "text": "1425\n",
          "output_type": "stream"
        }
      ]
    },
    {
      "cell_type": "markdown",
      "source": "---",
      "metadata": {}
    },
    {
      "cell_type": "markdown",
      "source": "## Задание 3:\n\nДаны два списка. <br>",
      "metadata": {}
    },
    {
      "cell_type": "code",
      "source": "# Дата покупки\ndates = ['2021-09-14', '2021-12-15', '2021-09-08', '2021-12-05', '2021-10-09', \n        '2021-09-30', '2021-12-22', '2021-11-29', '2021-12-24', '2021-11-26', \n        '2021-10-27', '2021-12-18', '2021-11-09', '2021-11-23', '2021-09-27', \n        '2021-10-02', '2021-12-27', '2021-09-20', '2021-12-13', '2021-11-01', \n        '2021-11-09', '2021-12-06', '2021-12-08', '2021-10-09', '2021-10-31', \n        '2021-09-30', '2021-11-09', '2021-12-13', '2021-10-26', '2021-12-09']",
      "metadata": {},
      "execution_count": null,
      "outputs": []
    },
    {
      "cell_type": "code",
      "source": "# Суммы покупок по датам\nsales = [1270, 8413, 9028, 3703, 5739, 4095, 295, 4944, 5723, 3701, \n        4471, 651, 7037, 4274, 6275, 4988, 6930, 2971, 6592, 2004, \n        2822, 519, 3406, 2732, 5015, 2008, 316, 6333, 5700, 2887]",
      "metadata": {},
      "execution_count": null,
      "outputs": []
    },
    {
      "cell_type": "markdown",
      "source": "---",
      "metadata": {}
    },
    {
      "cell_type": "markdown",
      "source": "### Задача 3.1:\n\nНайдите, какая выручка у компании в ноябре\nИспользуйте list comprehensions",
      "metadata": {}
    },
    {
      "cell_type": "code",
      "source": "# Выручка компании ноябре\nnovember_sales = sum([sales[i] for i in range(len(dates)) if dates[i].startswith('2021-11')])\n\nprint(f'Выручка компании в ноябре: {november_sales}')",
      "metadata": {
        "trusted": true
      },
      "execution_count": 36,
      "outputs": [
        {
          "name": "stdout",
          "text": "Выручка компании в ноябре: 25098\n",
          "output_type": "stream"
        }
      ]
    },
    {
      "cell_type": "markdown",
      "source": "---",
      "metadata": {}
    },
    {
      "cell_type": "markdown",
      "source": "### Задача 3.2:\n\nНайдите выручку компании в зависимости от месяца. <br>\nДля этого напишите функцию, которая на вход принимает <br>\nсписок с датами и список с выручкой, а на выходе словарь, <br>\nгде ключи - это месяцы, а значения - это выручка. <br>\nИспользуйте аннотирование типов",
      "metadata": {}
    },
    {
      "cell_type": "code",
      "source": "from typing import List\nfrom datetime import datetime\n\ndef sales_by_month(dates: List[str], sales: List[float]) -> dict:\n    months = {}\n    for i in range(len(dates)):\n        date = datetime.strptime(dates[i], '%Y-%m-%d')\n        month = date.strftime('%B')\n        if month not in months:\n            months[month] = sales[i]\n        else:\n            months[month] += sales[i]\n    return months\n\nprint(f'Выручка в компании за каждый месяц: {sales_by_month(dates, sales)}')",
      "metadata": {
        "trusted": true
      },
      "execution_count": 46,
      "outputs": [
        {
          "name": "stdout",
          "text": "Выручка в компании за каждый месяц: {'September': 25647, 'December': 45452, 'October': 28645, 'November': 25098}\n",
          "output_type": "stream"
        }
      ]
    },
    {
      "cell_type": "markdown",
      "source": "---",
      "metadata": {}
    }
  ]
}